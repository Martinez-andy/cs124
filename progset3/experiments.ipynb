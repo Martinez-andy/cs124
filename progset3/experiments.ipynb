{
 "cells": [
  {
   "cell_type": "code",
   "execution_count": 2,
   "metadata": {},
   "outputs": [],
   "source": [
    "import matplotlib.pyplot as plt\n",
    "import numpy as np\n",
    "import partition\n",
    "import random\n",
    "import time\n",
    "\n",
    "\n",
    "    "
   ]
  },
  {
   "cell_type": "code",
   "execution_count": 3,
   "metadata": {},
   "outputs": [],
   "source": [
    "\"\"\"\n",
    "Idea is to break it down into subsets that go from A[i] to A[j]\n",
    "\n",
    "\"\"\"\n",
    "\n",
    "data = []\n",
    "\n",
    "# Create data\n",
    "for i in range(50):\n",
    "    A = [random.randint(0, pow(10, 12)) for _ in range(100)]\n",
    "    func = [partition.karmarkarKarp, partition.repeatedRandom, partition.prepartRandom, \n",
    "                 partition.hillClimbing, partition.prepartHill, partition.simulatedAnnealing, partition.prepartSim]\n",
    "    func_names = [\"KK\", \"repeat Rand\", \"prepart Rand\", \"hill Climb\", \"prepart hill\", \"sim Ann\", \"prepart Sim\"]\n",
    "    \n",
    "    data = [[], [], [], [], [], [], []]\n",
    "    \n",
    "    for i in range(7):\n",
    "        start = time.time()\n",
    "        res = func[i](A)\n",
    "        end = time.time()\n",
    "        \n",
    "        tot_time = start - end\n",
    "        \n",
    "        data[i].append(res)"
   ]
  },
  {
   "cell_type": "code",
   "execution_count": null,
   "metadata": {},
   "outputs": [],
   "source": [
    "mins = []\n",
    "averages = []\n",
    "\n",
    "for i in range(7):\n",
    "    mins.append(min(data[i]))\n",
    "    averages.append(np.mean(data[i]))\n",
    "    \n",
    "    print(f\"{func_names[i]}:\")\n",
    "    print(f\"mins: {mins[i]}\")\n",
    "    print(f\"avg: {averages[i]}\")"
   ]
  }
 ],
 "metadata": {
  "kernelspec": {
   "display_name": "Python 3",
   "language": "python",
   "name": "python3"
  },
  "language_info": {
   "codemirror_mode": {
    "name": "ipython",
    "version": 3
   },
   "file_extension": ".py",
   "mimetype": "text/x-python",
   "name": "python",
   "nbconvert_exporter": "python",
   "pygments_lexer": "ipython3",
   "version": "3.11.7"
  }
 },
 "nbformat": 4,
 "nbformat_minor": 2
}
