{
 "cells": [
  {
   "cell_type": "code",
   "execution_count": 1,
   "metadata": {},
   "outputs": [],
   "source": [
    "import matplotlib.pyplot as plt\n",
    "import numpy as np\n",
    "import partition\n",
    "import random\n",
    "import time\n"
   ]
  },
  {
   "cell_type": "code",
   "execution_count": 2,
   "metadata": {},
   "outputs": [],
   "source": [
    "times = [[], [], [], [], [], [], []]\n",
    "\n",
    "data = [[], [], [], [], [], [], []]\n",
    "\n",
    "# Create data\n",
    "for i in range(50):\n",
    "    A = [random.randint(0, pow(10, 12)) for _ in range(100)]\n",
    "\n",
    "    func = [partition.karmarkarKarp, partition.repeatedRandom, partition.prepartRandom, \n",
    "                 partition.hillClimbing, partition.prepartHill, partition.simulatedAnnealing, partition.prepartSim]\n",
    "    func_names = [\"KK\", \"repeat Rand\", \"prepart Rand\", \"hill Climb\", \"prepart hill\", \"sim Ann\", \"prepart Sim\"]\n",
    "    \n",
    "    for i in range(7):\n",
    "        start = time.time()\n",
    "        res = func[i](A)\n",
    "        end = time.time()\n",
    "        \n",
    "        tot_time = start - end\n",
    "        \n",
    "        data[i].append(res)\n",
    "        times[i].append(tot_time)"
   ]
  },
  {
   "cell_type": "code",
   "execution_count": 3,
   "metadata": {},
   "outputs": [
    {
     "name": "stdout",
     "output_type": "stream",
     "text": [
      "KK:\n",
      "mins: 3138\n",
      "avg: 209220.24\n",
      "runtime:  3.589630126953125e-05\n",
      "\n",
      "repeat Rand:\n",
      "mins: 9048590\n",
      "avg: 208421007.92\n",
      "runtime:  1.304308352470398\n",
      "\n",
      "prepart Rand:\n",
      "mins: 15\n",
      "avg: 159.52\n",
      "runtime:  2.450779089927673\n",
      "\n",
      "hill Climb:\n",
      "mins: 1290993\n",
      "avg: 165470547.08\n",
      "runtime:  0.03264976501464844\n",
      "\n",
      "prepart hill:\n",
      "mins: 0\n",
      "avg: 168.72\n",
      "runtime:  1.3267576456069947\n",
      "\n",
      "sim Ann:\n",
      "mins: 351829\n",
      "avg: 171497045.14\n",
      "runtime:  0.05913392066955567\n",
      "\n",
      "prepart Sim:\n",
      "mins: 6\n",
      "avg: 157.92\n",
      "runtime:  1.3540440750122071\n",
      "\n"
     ]
    }
   ],
   "source": [
    "mins = []\n",
    "averages = []\n",
    "\n",
    "for i in range(7):\n",
    "    averages.append(np.mean(data[i]))\n",
    "    mins.append(min(data[i]))\n",
    "    \n",
    "    print(f\"{func_names[i]}:\")\n",
    "    print(f\"mins: {mins[i]}\")\n",
    "    print(f\"avg: {averages[i]}\")\n",
    "    print(f\"runtime:  {-np.mean(times[i])}\")\n",
    "    print()"
   ]
  }
 ],
 "metadata": {
  "kernelspec": {
   "display_name": "Python 3",
   "language": "python",
   "name": "python3"
  },
  "language_info": {
   "codemirror_mode": {
    "name": "ipython",
    "version": 3
   },
   "file_extension": ".py",
   "mimetype": "text/x-python",
   "name": "python",
   "nbconvert_exporter": "python",
   "pygments_lexer": "ipython3",
   "version": "3.11.7"
  }
 },
 "nbformat": 4,
 "nbformat_minor": 2
}
