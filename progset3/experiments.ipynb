{
 "cells": [
  {
   "cell_type": "code",
   "execution_count": 1,
   "metadata": {},
   "outputs": [],
   "source": [
    "import matplotlib.pyplot as plt\n",
    "import numpy as np\n",
    "import partition\n",
    "import random\n",
    "import time\n"
   ]
  },
  {
   "cell_type": "code",
   "execution_count": 2,
   "metadata": {},
   "outputs": [],
   "source": [
    "\"\"\"\n",
    "Idea is to break it down into subsets that go from A[i] to A[j]\n",
    "\n",
    "\"\"\"\n",
    "\n",
    "times = [[], [], [], [], [], [], []]\n",
    "\n",
    "data = [[], [], [], [], [], [], []]\n",
    "\n",
    "# Create data\n",
    "for i in range(50):\n",
    "    A = [random.randint(0, pow(10, 12)) for _ in range(100)]\n",
    "\n",
    "    func = [partition.karmarkarKarp, partition.repeatedRandom, partition.prepartRandom, \n",
    "                 partition.hillClimbing, partition.prepartHill, partition.simulatedAnnealing, partition.prepartSim]\n",
    "    func_names = [\"KK\", \"repeat Rand\", \"prepart Rand\", \"hill Climb\", \"prepart hill\", \"sim Ann\", \"prepart Sim\"]\n",
    "    \n",
    "    for i in range(7):\n",
    "        start = time.time()\n",
    "        res = func[i](A)\n",
    "        end = time.time()\n",
    "        \n",
    "        tot_time = start - end\n",
    "        \n",
    "        data[i].append(res)\n",
    "        times[i].append(tot_time)"
   ]
  },
  {
   "cell_type": "code",
   "execution_count": 3,
   "metadata": {},
   "outputs": [
    {
     "name": "stdout",
     "output_type": "stream",
     "text": [
      "KK:\n",
      "mins: 1819\n",
      "avg: 209213.4\n",
      "runtime:  3.372669219970703e-05\n",
      "\n",
      "repeat Rand:\n",
      "mins: 16213600\n",
      "avg: 245922964.56\n",
      "runtime:  1.1129542922973632\n",
      "\n",
      "prepart Rand:\n",
      "mins: 0\n",
      "avg: 131.9\n",
      "runtime:  2.1031355667114258\n",
      "\n",
      "hill Climb:\n",
      "mins: 1696169\n",
      "avg: 178397722.52\n",
      "runtime:  0.02884347438812256\n",
      "\n",
      "prepart hill:\n",
      "mins: 6\n",
      "avg: 136.92\n",
      "runtime:  1.1326335430145265\n",
      "\n",
      "sim Ann:\n",
      "mins: 4743054\n",
      "avg: 223918420.66\n",
      "runtime:  0.050604424476623534\n",
      "\n",
      "prepart Sim:\n",
      "mins: 1\n",
      "avg: 188.48\n",
      "runtime:  1.158768014907837\n",
      "\n"
     ]
    }
   ],
   "source": [
    "mins = []\n",
    "averages = []\n",
    "\n",
    "for i in range(7):\n",
    "    averages.append(np.mean(data[i]))\n",
    "    mins.append(min(data[i]))\n",
    "    \n",
    "    print(f\"{func_names[i]}:\")\n",
    "    print(f\"mins: {mins[i]}\")\n",
    "    print(f\"avg: {averages[i]}\")\n",
    "    print(f\"runtime:  {-np.mean(times[i])}\")\n",
    "    print()"
   ]
  }
 ],
 "metadata": {
  "kernelspec": {
   "display_name": "Python 3",
   "language": "python",
   "name": "python3"
  },
  "language_info": {
   "codemirror_mode": {
    "name": "ipython",
    "version": 3
   },
   "file_extension": ".py",
   "mimetype": "text/x-python",
   "name": "python",
   "nbconvert_exporter": "python",
   "pygments_lexer": "ipython3",
   "version": "3.11.7"
  }
 },
 "nbformat": 4,
 "nbformat_minor": 2
}
